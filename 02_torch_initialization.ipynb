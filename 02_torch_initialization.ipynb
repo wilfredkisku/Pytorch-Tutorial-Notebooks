{
 "cells": [
  {
   "cell_type": "markdown",
   "id": "29d7f3e9",
   "metadata": {},
   "source": [
    "Initializing Tensors"
   ]
  },
  {
   "cell_type": "code",
   "execution_count": 7,
   "id": "98cff326",
   "metadata": {},
   "outputs": [],
   "source": [
    "import torch\n",
    "\n",
    "device = \"cuda\" if torch.cuda.is_available() else \"cpu\"\n",
    "my_tensor = torch.tensor([[1,2,3],[4,5,6]], dtype=torch.float32, device='cpu', requires_grad=True)"
   ]
  },
  {
   "cell_type": "code",
   "execution_count": 8,
   "id": "2f9f9dd1",
   "metadata": {},
   "outputs": [
    {
     "name": "stdout",
     "output_type": "stream",
     "text": [
      "tensor([[1., 2., 3.],\n",
      "        [4., 5., 6.]], requires_grad=True)\n"
     ]
    }
   ],
   "source": [
    "print(my_tensor)"
   ]
  },
  {
   "cell_type": "code",
   "execution_count": 9,
   "id": "e4a82856",
   "metadata": {},
   "outputs": [
    {
     "data": {
      "text/plain": [
       "'cpu'"
      ]
     },
     "execution_count": 9,
     "metadata": {},
     "output_type": "execute_result"
    }
   ],
   "source": [
    "device"
   ]
  },
  {
   "cell_type": "code",
   "execution_count": 10,
   "id": "ac5b8068",
   "metadata": {},
   "outputs": [
    {
     "name": "stdout",
     "output_type": "stream",
     "text": [
      "cpu\n",
      "torch.float32\n",
      "torch.Size([2, 3])\n",
      "True\n"
     ]
    }
   ],
   "source": [
    "print(my_tensor.device)\n",
    "print(my_tensor.dtype)\n",
    "print(my_tensor.shape)\n",
    "print(my_tensor.requires_grad)"
   ]
  },
  {
   "cell_type": "code",
   "execution_count": 11,
   "id": "21ef0491",
   "metadata": {},
   "outputs": [
    {
     "data": {
      "text/plain": [
       "tensor([[1., 0., 0., 0., 0.],\n",
       "        [0., 1., 0., 0., 0.],\n",
       "        [0., 0., 1., 0., 0.],\n",
       "        [0., 0., 0., 1., 0.],\n",
       "        [0., 0., 0., 0., 1.]])"
      ]
     },
     "execution_count": 11,
     "metadata": {},
     "output_type": "execute_result"
    }
   ],
   "source": [
    "torch.eye(5,5)"
   ]
  },
  {
   "cell_type": "code",
   "execution_count": 15,
   "id": "124d8561",
   "metadata": {},
   "outputs": [
    {
     "data": {
      "text/plain": [
       "tensor([0.0000, 0.5000, 1.0000, 1.5000, 2.0000, 2.5000, 3.0000, 3.5000, 4.0000,\n",
       "        4.5000])"
      ]
     },
     "execution_count": 15,
     "metadata": {},
     "output_type": "execute_result"
    }
   ],
   "source": [
    "torch.arange(start=0,end=5,step=.5)"
   ]
  },
  {
   "cell_type": "code",
   "execution_count": 16,
   "id": "6f2b347e",
   "metadata": {},
   "outputs": [
    {
     "data": {
      "text/plain": [
       "tensor([0.1000, 0.2000, 0.3000, 0.4000, 0.5000, 0.6000, 0.7000, 0.8000, 0.9000,\n",
       "        1.0000])"
      ]
     },
     "execution_count": 16,
     "metadata": {},
     "output_type": "execute_result"
    }
   ],
   "source": [
    "torch.linspace(start=0.1, end=1, steps=10)"
   ]
  },
  {
   "cell_type": "markdown",
   "id": "0be1e49e",
   "metadata": {},
   "source": [
    "Convert the Numbers"
   ]
  },
  {
   "cell_type": "code",
   "execution_count": 18,
   "id": "6e63ad2d",
   "metadata": {},
   "outputs": [
    {
     "data": {
      "text/plain": [
       "tensor([False,  True,  True,  True])"
      ]
     },
     "execution_count": 18,
     "metadata": {},
     "output_type": "execute_result"
    }
   ],
   "source": [
    "torch.arange(4).bool()"
   ]
  },
  {
   "cell_type": "code",
   "execution_count": 19,
   "id": "22340e32",
   "metadata": {},
   "outputs": [
    {
     "data": {
      "text/plain": [
       "tensor([[0., 0., 0., 0., 0., 0., 0., 0., 0., 0., 0., 0., 0., 0.],\n",
       "        [0., 0., 0., 0., 0., 0., 0., 0., 0., 0., 0., 0., 0., 0.],\n",
       "        [0., 0., 0., 0., 0., 0., 0., 0., 0., 0., 0., 0., 0., 0.],\n",
       "        [0., 0., 0., 0., 0., 0., 0., 0., 0., 0., 0., 0., 0., 0.],\n",
       "        [0., 0., 0., 0., 0., 0., 0., 0., 0., 0., 0., 0., 0., 0.],\n",
       "        [0., 0., 0., 0., 0., 0., 0., 0., 0., 0., 0., 0., 0., 0.],\n",
       "        [0., 0., 0., 0., 0., 0., 0., 0., 0., 0., 0., 0., 0., 0.],\n",
       "        [0., 0., 0., 0., 0., 0., 0., 0., 0., 0., 0., 0., 0., 0.],\n",
       "        [0., 0., 0., 0., 0., 0., 0., 0., 0., 0., 0., 0., 0., 0.],\n",
       "        [0., 0., 0., 0., 0., 0., 0., 0., 0., 0., 0., 0., 0., 0.],\n",
       "        [0., 0., 0., 0., 0., 0., 0., 0., 0., 0., 0., 0., 0., 0.],\n",
       "        [0., 0., 0., 0., 0., 0., 0., 0., 0., 0., 0., 0., 0., 0.]])"
      ]
     },
     "execution_count": 19,
     "metadata": {},
     "output_type": "execute_result"
    }
   ],
   "source": [
    "torch.zeros(12,14)"
   ]
  },
  {
   "cell_type": "markdown",
   "id": "171327c9",
   "metadata": {},
   "source": [
    "Mathematical Operations"
   ]
  },
  {
   "cell_type": "code",
   "execution_count": 23,
   "id": "5656e02d",
   "metadata": {},
   "outputs": [
    {
     "data": {
      "text/plain": [
       "tensor([2, 4, 6])"
      ]
     },
     "execution_count": 23,
     "metadata": {},
     "output_type": "execute_result"
    }
   ],
   "source": [
    "torch.add(torch.tensor([1,2,3]), torch.tensor([1,2,3]))"
   ]
  },
  {
   "cell_type": "code",
   "execution_count": 24,
   "id": "74b153b9",
   "metadata": {},
   "outputs": [],
   "source": [
    "a = torch.tensor([1,2,3])\n",
    "b = torch.tensor([5,6,7])"
   ]
  },
  {
   "cell_type": "code",
   "execution_count": 29,
   "id": "e9f0e6e7",
   "metadata": {},
   "outputs": [
    {
     "data": {
      "text/plain": [
       "tensor([ 6,  8, 10])"
      ]
     },
     "execution_count": 29,
     "metadata": {},
     "output_type": "execute_result"
    }
   ],
   "source": [
    "torch.add(b,a)"
   ]
  },
  {
   "cell_type": "markdown",
   "id": "ac5f63ed",
   "metadata": {},
   "source": [
    "In-place operations"
   ]
  },
  {
   "cell_type": "code",
   "execution_count": 30,
   "id": "12ce091e",
   "metadata": {},
   "outputs": [
    {
     "data": {
      "text/plain": [
       "tensor([ 6,  8, 10])"
      ]
     },
     "execution_count": 30,
     "metadata": {},
     "output_type": "execute_result"
    }
   ],
   "source": [
    "b.add_(a)"
   ]
  },
  {
   "cell_type": "code",
   "execution_count": 31,
   "id": "be1bd2df",
   "metadata": {},
   "outputs": [
    {
     "data": {
      "text/plain": [
       "tensor([ 6,  8, 10])"
      ]
     },
     "execution_count": 31,
     "metadata": {},
     "output_type": "execute_result"
    }
   ],
   "source": [
    "b"
   ]
  },
  {
   "cell_type": "code",
   "execution_count": 32,
   "id": "7abdf61f",
   "metadata": {},
   "outputs": [],
   "source": [
    "x = torch.rand((5,3))"
   ]
  },
  {
   "cell_type": "code",
   "execution_count": 33,
   "id": "201f9006",
   "metadata": {},
   "outputs": [],
   "source": [
    "y = torch.rand((3,5))"
   ]
  },
  {
   "cell_type": "code",
   "execution_count": 34,
   "id": "e5149f38",
   "metadata": {},
   "outputs": [
    {
     "data": {
      "text/plain": [
       "tensor([[0.1201, 0.4165, 0.1718, 0.1419, 0.3966],\n",
       "        [0.3835, 1.1033, 0.3571, 0.2408, 1.0794],\n",
       "        [0.2264, 0.6875, 0.1239, 0.1749, 0.6510],\n",
       "        [0.2917, 1.3115, 0.4566, 0.6232, 1.1816],\n",
       "        [0.4956, 1.5659, 0.6619, 0.4430, 1.5219]])"
      ]
     },
     "execution_count": 34,
     "metadata": {},
     "output_type": "execute_result"
    }
   ],
   "source": [
    "torch.mm(x,y)"
   ]
  },
  {
   "cell_type": "code",
   "execution_count": 37,
   "id": "7cc609f9",
   "metadata": {},
   "outputs": [
    {
     "data": {
      "text/plain": [
       "tensor([0.2067, 0.8979, 0.5207, 0.2406, 0.9941])"
      ]
     },
     "execution_count": 37,
     "metadata": {},
     "output_type": "execute_result"
    }
   ],
   "source": [
    "x[:,0]"
   ]
  },
  {
   "cell_type": "code",
   "execution_count": 38,
   "id": "3525f5f8",
   "metadata": {},
   "outputs": [
    {
     "data": {
      "text/plain": [
       "tensor([0.3617, 0.9185, 0.1301, 0.1117, 0.9031])"
      ]
     },
     "execution_count": 38,
     "metadata": {},
     "output_type": "execute_result"
    }
   ],
   "source": [
    "y[0,:]"
   ]
  },
  {
   "cell_type": "code",
   "execution_count": 36,
   "id": "b0795335",
   "metadata": {},
   "outputs": [
    {
     "data": {
      "text/plain": [
       "tensor(1.8919)"
      ]
     },
     "execution_count": 36,
     "metadata": {},
     "output_type": "execute_result"
    }
   ],
   "source": [
    "torch.dot(x[:,0],y[0,:])"
   ]
  },
  {
   "cell_type": "markdown",
   "id": "690ed16f",
   "metadata": {},
   "source": [
    "Boadcasting"
   ]
  },
  {
   "cell_type": "code",
   "execution_count": 39,
   "id": "60c8c9c8",
   "metadata": {},
   "outputs": [],
   "source": [
    "x1 = torch.rand([5,5])\n",
    "y1 = torch.rand([5,1])"
   ]
  },
  {
   "cell_type": "code",
   "execution_count": 40,
   "id": "a346b078",
   "metadata": {},
   "outputs": [
    {
     "data": {
      "text/plain": [
       "tensor([[-0.6982, -0.7207,  0.1239, -0.0361, -0.5258],\n",
       "        [-0.2337, -0.7321, -0.8327, -0.9446, -0.4756],\n",
       "        [-0.5853,  0.3507,  0.0597,  0.3112,  0.3418],\n",
       "        [ 0.2020,  0.3568,  0.8657, -0.0471,  0.2521],\n",
       "        [-0.3935,  0.1655, -0.6681, -0.2663, -0.4777]])"
      ]
     },
     "execution_count": 40,
     "metadata": {},
     "output_type": "execute_result"
    }
   ],
   "source": [
    "x1 - y1"
   ]
  },
  {
   "cell_type": "code",
   "execution_count": 41,
   "id": "830bf93b",
   "metadata": {},
   "outputs": [
    {
     "data": {
      "text/plain": [
       "tensor([[0.8941, 1.7275, 0.7032, 0.4017, 1.1591],\n",
       "        [0.8716, 1.2290, 1.6392, 0.5565, 1.7181],\n",
       "        [1.7162, 1.1284, 1.3483, 1.0653, 0.8846],\n",
       "        [1.5562, 1.0165, 1.5998, 0.1526, 1.2863],\n",
       "        [1.0665, 1.4855, 1.6304, 0.4518, 1.0749]])"
      ]
     },
     "execution_count": 41,
     "metadata": {},
     "output_type": "execute_result"
    }
   ],
   "source": [
    "torch.t(x1) + torch.t(y1)"
   ]
  },
  {
   "cell_type": "code",
   "execution_count": 43,
   "id": "34085cc8",
   "metadata": {},
   "outputs": [
    {
     "data": {
      "text/plain": [
       "tensor([[0.0980, 0.0755, 0.9201, 0.7601, 0.2703],\n",
       "        [0.7469, 0.2484, 0.1478, 0.0359, 0.5050],\n",
       "        [0.0590, 0.9949, 0.7040, 0.9555, 0.9861],\n",
       "        [0.3019, 0.4566, 0.9655, 0.0528, 0.3520],\n",
       "        [0.3828, 0.9418, 0.1082, 0.5100, 0.2986]])"
      ]
     },
     "execution_count": 43,
     "metadata": {},
     "output_type": "execute_result"
    }
   ],
   "source": [
    "x1"
   ]
  },
  {
   "cell_type": "code",
   "execution_count": 47,
   "id": "9cae0564",
   "metadata": {},
   "outputs": [
    {
     "data": {
      "text/plain": [
       "tensor(1.5886)"
      ]
     },
     "execution_count": 47,
     "metadata": {},
     "output_type": "execute_result"
    }
   ],
   "source": [
    "torch.sum(torch.tensor([0.0980, 0.7469, 0.0590, 0.3019, 0.3828]))"
   ]
  },
  {
   "cell_type": "code",
   "execution_count": 42,
   "id": "435ac025",
   "metadata": {
    "scrolled": true
   },
   "outputs": [
    {
     "data": {
      "text/plain": [
       "tensor([1.5885, 2.7173, 2.8456, 2.3143, 2.4119])"
      ]
     },
     "execution_count": 42,
     "metadata": {},
     "output_type": "execute_result"
    }
   ],
   "source": [
    "torch.sum(x1, dim=0)"
   ]
  },
  {
   "cell_type": "code",
   "execution_count": 50,
   "id": "5f00473d",
   "metadata": {},
   "outputs": [
    {
     "data": {
      "text/plain": [
       "torch.return_types.sort(\n",
       "values=tensor([[0.0590, 0.0755, 0.1082, 0.0359, 0.2703],\n",
       "        [0.0980, 0.2484, 0.1478, 0.0528, 0.2986],\n",
       "        [0.3019, 0.4566, 0.7040, 0.5100, 0.3520],\n",
       "        [0.3828, 0.9418, 0.9201, 0.7601, 0.5050],\n",
       "        [0.7469, 0.9949, 0.9655, 0.9555, 0.9861]]),\n",
       "indices=tensor([[2, 0, 4, 1, 0],\n",
       "        [0, 1, 1, 3, 4],\n",
       "        [3, 3, 2, 4, 3],\n",
       "        [4, 4, 0, 0, 1],\n",
       "        [1, 2, 3, 2, 2]]))"
      ]
     },
     "execution_count": 50,
     "metadata": {},
     "output_type": "execute_result"
    }
   ],
   "source": [
    "torch.sort(x1,dim=0,descending=False)"
   ]
  },
  {
   "cell_type": "code",
   "execution_count": 54,
   "id": "c046be74",
   "metadata": {},
   "outputs": [],
   "source": [
    "xx = torch.randint(20,(10,10))"
   ]
  },
  {
   "cell_type": "code",
   "execution_count": 60,
   "id": "d334ef4b",
   "metadata": {},
   "outputs": [
    {
     "data": {
      "text/plain": [
       "tensor([[ True,  True,  True, False,  True, False,  True, False, False, False],\n",
       "        [False,  True, False, False,  True,  True,  True, False, False,  True],\n",
       "        [False, False,  True, False,  True, False, False, False,  True,  True],\n",
       "        [ True,  True, False, False,  True, False,  True, False,  True,  True],\n",
       "        [ True, False, False,  True, False,  True, False, False, False, False],\n",
       "        [False, False,  True,  True, False,  True,  True,  True, False,  True],\n",
       "        [ True, False, False,  True,  True,  True,  True,  True, False, False],\n",
       "        [ True, False,  True,  True, False, False, False,  True, False, False],\n",
       "        [ True, False,  True,  True,  True,  True,  True, False, False,  True],\n",
       "        [ True, False,  True,  True, False,  True,  True, False,  True, False]])"
      ]
     },
     "execution_count": 60,
     "metadata": {},
     "output_type": "execute_result"
    }
   ],
   "source": [
    "xx%2 == 0"
   ]
  },
  {
   "cell_type": "code",
   "execution_count": 64,
   "id": "2b47cd78",
   "metadata": {},
   "outputs": [
    {
     "data": {
      "text/plain": [
       "tensor([[True, True],\n",
       "        [True, True],\n",
       "        [True, True],\n",
       "        [True, True],\n",
       "        [True, True],\n",
       "        [True, True],\n",
       "        [True, True],\n",
       "        [True, True],\n",
       "        [True, True],\n",
       "        [True, True],\n",
       "        [True, True],\n",
       "        [True, True],\n",
       "        [True, True],\n",
       "        [True, True],\n",
       "        [True, True],\n",
       "        [True, True],\n",
       "        [True, True],\n",
       "        [True, True],\n",
       "        [True, True],\n",
       "        [True, True],\n",
       "        [True, True],\n",
       "        [True, True],\n",
       "        [True, True],\n",
       "        [True, True],\n",
       "        [True, True],\n",
       "        [True, True],\n",
       "        [True, True],\n",
       "        [True, True],\n",
       "        [True, True],\n",
       "        [True, True],\n",
       "        [True, True],\n",
       "        [True, True],\n",
       "        [True, True],\n",
       "        [True, True],\n",
       "        [True, True],\n",
       "        [True, True],\n",
       "        [True, True],\n",
       "        [True, True],\n",
       "        [True, True],\n",
       "        [True, True],\n",
       "        [True, True],\n",
       "        [True, True],\n",
       "        [True, True],\n",
       "        [True, True],\n",
       "        [True, True],\n",
       "        [True, True],\n",
       "        [True, True],\n",
       "        [True, True],\n",
       "        [True, True],\n",
       "        [True, True],\n",
       "        [True, True],\n",
       "        [True, True]])"
      ]
     },
     "execution_count": 64,
     "metadata": {},
     "output_type": "execute_result"
    }
   ],
   "source": [
    "(xx%2 == 0).nonzero() == (xx%2 == 0).nonzero().squeeze()"
   ]
  },
  {
   "cell_type": "code",
   "execution_count": 62,
   "id": "1a9e0e0d",
   "metadata": {},
   "outputs": [
    {
     "data": {
      "text/plain": [
       "tensor([[0, 0],\n",
       "        [0, 1],\n",
       "        [0, 2],\n",
       "        [0, 4],\n",
       "        [0, 6],\n",
       "        [1, 1],\n",
       "        [1, 4],\n",
       "        [1, 5],\n",
       "        [1, 6],\n",
       "        [1, 9],\n",
       "        [2, 2],\n",
       "        [2, 4],\n",
       "        [2, 8],\n",
       "        [2, 9],\n",
       "        [3, 0],\n",
       "        [3, 1],\n",
       "        [3, 4],\n",
       "        [3, 6],\n",
       "        [3, 8],\n",
       "        [3, 9],\n",
       "        [4, 0],\n",
       "        [4, 3],\n",
       "        [4, 5],\n",
       "        [5, 2],\n",
       "        [5, 3],\n",
       "        [5, 5],\n",
       "        [5, 6],\n",
       "        [5, 7],\n",
       "        [5, 9],\n",
       "        [6, 0],\n",
       "        [6, 3],\n",
       "        [6, 4],\n",
       "        [6, 5],\n",
       "        [6, 6],\n",
       "        [6, 7],\n",
       "        [7, 0],\n",
       "        [7, 2],\n",
       "        [7, 3],\n",
       "        [7, 7],\n",
       "        [8, 0],\n",
       "        [8, 2],\n",
       "        [8, 3],\n",
       "        [8, 4],\n",
       "        [8, 5],\n",
       "        [8, 6],\n",
       "        [8, 9],\n",
       "        [9, 0],\n",
       "        [9, 2],\n",
       "        [9, 3],\n",
       "        [9, 5],\n",
       "        [9, 6],\n",
       "        [9, 8]])"
      ]
     },
     "execution_count": 62,
     "metadata": {},
     "output_type": "execute_result"
    }
   ],
   "source": [
    "(xx%2 == 0).nonzero().squeeze()"
   ]
  },
  {
   "cell_type": "code",
   "execution_count": 56,
   "id": "0d5afddb",
   "metadata": {},
   "outputs": [
    {
     "data": {
      "text/plain": [
       "tensor([ 8, 12, 14,  0,  6, 16,  2, 14, 10,  2,  4,  6,  8,  4,  0, 16,  2,  6,\n",
       "         8,  8, 14,  2, 14, 10, 18,  2,  8,  0, 12,  6,  8, 18, 18, 12, 18,  2,\n",
       "        16, 16,  4,  8,  8,  6, 10, 12, 10, 18,  0, 10,  8,  2,  0,  2])"
      ]
     },
     "execution_count": 56,
     "metadata": {},
     "output_type": "execute_result"
    }
   ],
   "source": [
    "xx[xx%2 == 0]"
   ]
  }
 ],
 "metadata": {
  "kernelspec": {
   "display_name": "Python 3 (ipykernel)",
   "language": "python",
   "name": "python3"
  },
  "language_info": {
   "codemirror_mode": {
    "name": "ipython",
    "version": 3
   },
   "file_extension": ".py",
   "mimetype": "text/x-python",
   "name": "python",
   "nbconvert_exporter": "python",
   "pygments_lexer": "ipython3",
   "version": "3.7.13"
  }
 },
 "nbformat": 4,
 "nbformat_minor": 5
}
